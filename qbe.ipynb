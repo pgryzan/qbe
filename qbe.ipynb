{
 "cells": [
  {
   "cell_type": "markdown",
   "metadata": {
    "tags": []
   },
   "source": [
    "# QBE"
   ]
  },
  {
   "cell_type": "markdown",
   "metadata": {
    "tags": []
   },
   "source": [
    "## Goal\n",
    "Modernize the way we deliver models and technical premium to our business partners (e.g.,\n",
    "Underwriters, Claims Reps, etc.) Our aim is to deploy these models as an API, such that they can\n",
    "be easily consumed from various downstream applications. In addition to this, we’re interested\n",
    "to see a solution with the following components:\n",
    "- Deployment Governance (e.g., approval process to move to production, version history,\n",
    "etc.)\n",
    "- Complete, searchable, and auditable provenance of all models\n",
    "- Model explainability (e.g., which features were important to the prediction and why)\n",
    "- Model quality monitoring (e.g., model accuracy over time)\n",
    "- Data quality monitoring (e.g., data drift)\n",
    "- Holistic view of all models in production (e.g., how many models do we have, what’s the aggregate model quality, how many need to be retrained, etc.)\n",
    "- API telemetry and transaction auditability (e.g., how often is the API used, how performant is it, what were the inputs and outputs in each transaction, etc.)\n",
    "- Native support for development in open-source languages (e.g., R, Python, etc.) and deployment of varying model types to the solution (e.g., GLM, GBM, CNN, etc.)\n",
    "- Ability to make pricing transactional data available for analytical purposes"
   ]
  },
  {
   "cell_type": "markdown",
   "metadata": {
    "tags": []
   },
   "source": [
    "## Load Libraries"
   ]
  },
  {
   "cell_type": "code",
   "execution_count": 1,
   "metadata": {},
   "outputs": [
    {
     "name": "stdout",
     "output_type": "stream",
     "text": [
      "Defaulting to user installation because normal site-packages is not writeable\n",
      "Requirement already satisfied: pip in /home/jovyan/.local/lib/python3.6/site-packages (21.3.1)\n",
      "Requirement already satisfied: numpy in /usr/local/lib/python3.6/dist-packages (from -r requirements.txt (line 1)) (1.19.5)\n",
      "Requirement already satisfied: pandas in /home/jovyan/.local/lib/python3.6/site-packages (from -r requirements.txt (line 2)) (1.1.5)\n",
      "Requirement already satisfied: scipy in /home/jovyan/.local/lib/python3.6/site-packages (from -r requirements.txt (line 3)) (1.5.4)\n",
      "Requirement already satisfied: statsmodels in /home/jovyan/.local/lib/python3.6/site-packages (from -r requirements.txt (line 4)) (0.12.2)\n",
      "Requirement already satisfied: pytz>=2017.2 in /usr/local/lib/python3.6/dist-packages (from pandas->-r requirements.txt (line 2)) (2021.1)\n",
      "Requirement already satisfied: python-dateutil>=2.7.3 in /usr/local/lib/python3.6/dist-packages (from pandas->-r requirements.txt (line 2)) (2.8.1)\n",
      "Requirement already satisfied: patsy>=0.5 in /home/jovyan/.local/lib/python3.6/site-packages (from statsmodels->-r requirements.txt (line 4)) (0.5.2)\n",
      "Requirement already satisfied: six in /usr/local/lib/python3.6/dist-packages (from patsy>=0.5->statsmodels->-r requirements.txt (line 4)) (1.15.0)\n"
     ]
    }
   ],
   "source": [
    "!pip3 install --upgrade pip\n",
    "!pip3 install --user -r requirements.txt"
   ]
  },
  {
   "cell_type": "markdown",
   "metadata": {
    "tags": []
   },
   "source": [
    "## Import Dependencies"
   ]
  },
  {
   "cell_type": "code",
   "execution_count": 3,
   "metadata": {},
   "outputs": [],
   "source": [
    "import requests\n",
    "import numpy as np \n",
    "import pandas as pd\n",
    "import scipy\n",
    "import statsmodels.api as sm"
   ]
  },
  {
   "cell_type": "markdown",
   "metadata": {
    "tags": []
   },
   "source": [
    "## Load Data "
   ]
  },
  {
   "cell_type": "code",
   "execution_count": 40,
   "metadata": {
    "collapsed": true,
    "jupyter": {
     "outputs_hidden": true
    }
   },
   "outputs": [
    {
     "name": "stdout",
     "output_type": "stream",
     "text": [
      "<class 'pandas.core.frame.DataFrame'>\n",
      "RangeIndex: 131773 entries, 0 to 131772\n",
      "Data columns (total 11 columns):\n",
      " #   Column                           Non-Null Count   Dtype  \n",
      "---  ------                           --------------   -----  \n",
      " 0   coverage_type                    131773 non-null  object \n",
      " 1   pol_eff_year                     131773 non-null  int64  \n",
      " 2   risk_state                       131773 non-null  object \n",
      " 3   naics3                           131539 non-null  float64\n",
      " 4   n_power_units                    131773 non-null  int64  \n",
      " 5   prior_claim_freq_3yr             99408 non-null   float64\n",
      " 6   dnb_credit_score                 108504 non-null  float64\n",
      " 7   easi_snowfall                    131504 non-null  float64\n",
      " 8   experience_rated_manual_premium  131773 non-null  float64\n",
      " 9   incurred_loss_and_alae           131773 non-null  float64\n",
      " 10  split                            131773 non-null  object \n",
      "dtypes: float64(6), int64(2), object(3)\n",
      "memory usage: 11.1+ MB\n",
      "<class 'pandas.core.frame.DataFrame'>\n",
      "RangeIndex: 51 entries, 0 to 50\n",
      "Data columns (total 3 columns):\n",
      " #   Column                 Non-Null Count  Dtype  \n",
      "---  ------                 --------------  -----  \n",
      " 0   coverage               51 non-null     object \n",
      " 1   risk_state             51 non-null     object \n",
      " 2   state_sold_indication  51 non-null     float64\n",
      "dtypes: float64(1), object(2)\n",
      "memory usage: 1.3+ KB\n"
     ]
    }
   ],
   "source": [
    "data = pd.read_csv(\"comm_auto_sample_data.csv\")\n",
    "data.info()\n",
    "indication = pd.read_csv(\"comm_auto_sample_indication.csv\")\n",
    "indication.info()"
   ]
  },
  {
   "cell_type": "markdown",
   "metadata": {
    "tags": []
   },
   "source": [
    "## Split Data"
   ]
  },
  {
   "cell_type": "code",
   "execution_count": 91,
   "metadata": {
    "collapsed": true,
    "jupyter": {
     "outputs_hidden": true
    }
   },
   "outputs": [
    {
     "data": {
      "text/html": [
       "<div>\n",
       "<style scoped>\n",
       "    .dataframe tbody tr th:only-of-type {\n",
       "        vertical-align: middle;\n",
       "    }\n",
       "\n",
       "    .dataframe tbody tr th {\n",
       "        vertical-align: top;\n",
       "    }\n",
       "\n",
       "    .dataframe thead th {\n",
       "        text-align: right;\n",
       "    }\n",
       "</style>\n",
       "<table border=\"1\" class=\"dataframe\">\n",
       "  <thead>\n",
       "    <tr style=\"text-align: right;\">\n",
       "      <th></th>\n",
       "      <th>const</th>\n",
       "      <th>pol_eff_year</th>\n",
       "      <th>risk_state</th>\n",
       "      <th>naics3</th>\n",
       "      <th>n_power_units</th>\n",
       "      <th>prior_claim_freq_3yr</th>\n",
       "      <th>dnb_credit_score</th>\n",
       "      <th>easi_snowfall</th>\n",
       "      <th>experience_rated_manual_premium</th>\n",
       "      <th>incurred_loss_and_alae</th>\n",
       "    </tr>\n",
       "  </thead>\n",
       "  <tbody>\n",
       "    <tr>\n",
       "      <th>0</th>\n",
       "      <td>1.0</td>\n",
       "      <td>2010</td>\n",
       "      <td>AK</td>\n",
       "      <td>722.0</td>\n",
       "      <td>24</td>\n",
       "      <td>0.0</td>\n",
       "      <td>0.0</td>\n",
       "      <td>70.0</td>\n",
       "      <td>478.555077</td>\n",
       "      <td>0.000000</td>\n",
       "    </tr>\n",
       "    <tr>\n",
       "      <th>8</th>\n",
       "      <td>1.0</td>\n",
       "      <td>2010</td>\n",
       "      <td>AR</td>\n",
       "      <td>453.0</td>\n",
       "      <td>1</td>\n",
       "      <td>0.0</td>\n",
       "      <td>2.0</td>\n",
       "      <td>5.0</td>\n",
       "      <td>429.164457</td>\n",
       "      <td>0.000000</td>\n",
       "    </tr>\n",
       "    <tr>\n",
       "      <th>9</th>\n",
       "      <td>1.0</td>\n",
       "      <td>2010</td>\n",
       "      <td>AR</td>\n",
       "      <td>423.0</td>\n",
       "      <td>4</td>\n",
       "      <td>0.0</td>\n",
       "      <td>1.0</td>\n",
       "      <td>7.0</td>\n",
       "      <td>1234.672690</td>\n",
       "      <td>0.000000</td>\n",
       "    </tr>\n",
       "    <tr>\n",
       "      <th>18</th>\n",
       "      <td>1.0</td>\n",
       "      <td>2010</td>\n",
       "      <td>AZ</td>\n",
       "      <td>112.0</td>\n",
       "      <td>17</td>\n",
       "      <td>0.0</td>\n",
       "      <td>3.0</td>\n",
       "      <td>0.0</td>\n",
       "      <td>3274.963002</td>\n",
       "      <td>423.294916</td>\n",
       "    </tr>\n",
       "    <tr>\n",
       "      <th>19</th>\n",
       "      <td>1.0</td>\n",
       "      <td>2010</td>\n",
       "      <td>AZ</td>\n",
       "      <td>112.0</td>\n",
       "      <td>32</td>\n",
       "      <td>0.0</td>\n",
       "      <td>3.0</td>\n",
       "      <td>0.0</td>\n",
       "      <td>2978.807420</td>\n",
       "      <td>0.000000</td>\n",
       "    </tr>\n",
       "  </tbody>\n",
       "</table>\n",
       "</div>"
      ],
      "text/plain": [
       "    const  pol_eff_year risk_state  naics3  n_power_units  \\\n",
       "0     1.0          2010         AK   722.0             24   \n",
       "8     1.0          2010         AR   453.0              1   \n",
       "9     1.0          2010         AR   423.0              4   \n",
       "18    1.0          2010         AZ   112.0             17   \n",
       "19    1.0          2010         AZ   112.0             32   \n",
       "\n",
       "    prior_claim_freq_3yr  dnb_credit_score  easi_snowfall  \\\n",
       "0                    0.0               0.0           70.0   \n",
       "8                    0.0               2.0            5.0   \n",
       "9                    0.0               1.0            7.0   \n",
       "18                   0.0               3.0            0.0   \n",
       "19                   0.0               3.0            0.0   \n",
       "\n",
       "    experience_rated_manual_premium  incurred_loss_and_alae  \n",
       "0                        478.555077                0.000000  \n",
       "8                        429.164457                0.000000  \n",
       "9                       1234.672690                0.000000  \n",
       "18                      3274.963002              423.294916  \n",
       "19                      2978.807420                0.000000  "
      ]
     },
     "execution_count": 91,
     "metadata": {},
     "output_type": "execute_result"
    }
   ],
   "source": [
    "train_df = data[data.split == 'Training']\n",
    "train_df = train_df.drop(['split', 'coverage_type', 'risk_state'], axis=1)\n",
    "train_df = train_df.fillna(0)\n",
    "train_x = sm.add_constant(train_df)\n",
    "train_x.head()\n",
    "\n",
    "train_y = pd.DataFrame(train_df[\"incurred_loss_and_alae\"] / train_df[\"experience_rated_manual_premium\"])\n",
    "train_y = train_y.rename(columns={0: \"manual_loss_ratio\",})\n",
    "train_y.head()\n",
    "\n",
    "test_df = data[data.split == 'Holdout']\n",
    "test_df = test_df.drop(['split', 'coverage_type'], axis=1)\n",
    "test_df = test_df.fillna(0)\n",
    "test_df = sm.add_constant(test_df)\n",
    "test_df.head()"
   ]
  },
  {
   "cell_type": "markdown",
   "metadata": {
    "tags": []
   },
   "source": [
    "## Sample Use Case\n",
    "To deliver technical premium for Commercial Retail – Auto, you need a combination of pricing\n",
    "inputs from:\n",
    "### 1. Manual Premium\n",
    "- Comes from our Policy Admin System, Majesco\n",
    "- Would be API data from Majesco\n",
    "- For the demo, briefly describe how you would ingest this type of data from an internal vendor."
   ]
  },
  {
   "cell_type": "code",
   "execution_count": 9,
   "metadata": {
    "collapsed": true,
    "jupyter": {
     "outputs_hidden": true
    }
   },
   "outputs": [
    {
     "name": "stdout",
     "output_type": "stream",
     "text": [
      "{\n",
      "  \"args\": {\n",
      "    \"search.sessiontype\": \"1522435540042001BxTD\"\n",
      "  }, \n",
      "  \"data\": \"\", \n",
      "  \"files\": {}, \n",
      "  \"form\": {}, \n",
      "  \"headers\": {\n",
      "    \"Accept\": \"*/*\", \n",
      "    \"Accept-Encoding\": \"gzip, deflate\", \n",
      "    \"Content-Length\": \"0\", \n",
      "    \"Content-Type\": \"multipart/form-data\", \n",
      "    \"Host\": \"httpbin.org\", \n",
      "    \"User-Agent\": \"python-requests/2.25.1\", \n",
      "    \"X-Amzn-Trace-Id\": \"Root=1-61bcc5ac-06e750c523b95aa03aaba88e\"\n",
      "  }, \n",
      "  \"json\": null, \n",
      "  \"origin\": \"35.226.118.171\", \n",
      "  \"url\": \"https://httpbin.org/post?search.sessiontype=1522435540042001BxTD\"\n",
      "}\n",
      "\n"
     ]
    }
   ],
   "source": [
    "url = \"https://httpbin.org/post\"\n",
    "querystring = {\"search.sessiontype\":\"1522435540042001BxTD\"}\n",
    "payload = {}\n",
    "headers = {'content-type': \"multipart/form-data\"}\n",
    "print(requests.request(\"POST\", url, data=payload, headers=headers, params=querystring).text)"
   ]
  },
  {
   "cell_type": "markdown",
   "metadata": {
    "tags": []
   },
   "source": [
    "### 2. Experience Mod (tool_name = Experience Rater, file_type = Excel, model_type = Rater)\n",
    "- Relies on historical losses, which comes in the form of PDFs, Excel files, etc.\n",
    "- Sample Algorithm:\n",
    "\n",
    "`If Manual Premium < $10,000\n",
    "    If losses > $20,000 then 2 else 0.8\n",
    "Else\n",
    "    If losses > $1,000,000 then 1.5 else 1.0`"
   ]
  },
  {
   "cell_type": "code",
   "execution_count": 74,
   "metadata": {},
   "outputs": [],
   "source": [
    "def experience_rater(manual_premium, losses):\n",
    "    rating = 0.0\n",
    "    if manual_premium < 10000:\n",
    "        if losses > 20000:\n",
    "            rating = 2.0\n",
    "        else:\n",
    "            rating = 0.8\n",
    "    else:\n",
    "        if losses > 1000000:\n",
    "            rating = 1.5\n",
    "        else:\n",
    "            rating = 1\n",
    "    return rating"
   ]
  },
  {
   "cell_type": "code",
   "execution_count": 75,
   "metadata": {},
   "outputs": [
    {
     "name": "stdout",
     "output_type": "stream",
     "text": [
      "1\n"
     ]
    }
   ],
   "source": [
    "print(experience_rater(20000,0))"
   ]
  },
  {
   "cell_type": "markdown",
   "metadata": {
    "tags": []
   },
   "source": [
    "### 3. Loss Rating Tool (tool_name = CLRT, file_type = Excel, model_type = Rater)\n",
    "- Relies on (1) and (2)\n",
    "- Only used for large accounts\n",
    "    - $500,000+ experience rated manual premium\n",
    "    - This is an example of a business rule we’d like to see handled (i.e., when to use a specific algorithm)\n",
    "- In production, the input to this algorithm is dynamic (e.g., what if analysis), and will come from our Underwriting Workbench (i.e., the UI where the Underwriter works to quote policies).\n",
    "- Example Input Variables\n",
    "    - Historical exposure by year\n",
    "        - Auto exposure is vehicle count\n",
    "    - Losses by year\n",
    "    - Claim detail\n",
    "    - Aggregate losses by year\n",
    "    - Account information\n",
    "- Please describe how you would handle the dynamic input and output of Example Input Variables as part of your deployment\n",
    "- Output is technical premium\n",
    "    - CLRT Mod * Experience Mod * Manual Premium = Technical Premium\n",
    "    - CLRT Mod Sample Algorithm:\n",
    "    \n",
    "`If exposure < 100\n",
    "    If losses > 1000000 then 1.8\n",
    "    If losses > 500000 then 1.4\n",
    "    If losses > 250000 then 1.0\n",
    "    If losses > 100000 then 0.9\n",
    "    Else 0.8\n",
    "Else\n",
    "    If losses > 1000000 then 2.0\n",
    "    If losses > 500000 then 1.5\n",
    "    If losses > 250000 then 1.0\n",
    "    If losses > 100000 then 0.85\n",
    "    Else 0.75`\n"
   ]
  },
  {
   "cell_type": "code",
   "execution_count": 122,
   "metadata": {},
   "outputs": [],
   "source": [
    "def clrt (exposure, losses):\n",
    "    technical_preminum = 0.0\n",
    "    if exposure < 100:\n",
    "        if losses > 1000000:\n",
    "            technical_preminum = 1.8\n",
    "        if losses > 500000:\n",
    "            technical_preminum = 1.4\n",
    "        if losses > 250000:\n",
    "            technical_preminum = 1.0\n",
    "        if losses > 100000:\n",
    "            technical_preminum = 1.9\n",
    "        else:\n",
    "            technical_preminum = 0.8\n",
    "    else:\n",
    "        if losses > 1000000:\n",
    "            technical_preminum = 2.0\n",
    "        if losses > 500000:\n",
    "            technical_preminum = 1.5\n",
    "        if losses > 250000:\n",
    "            technical_preminum = 1.0\n",
    "        if losses > 100000:\n",
    "            technical_preminum = 0.85\n",
    "        else:\n",
    "            technical_preminum = 0.75\n",
    "    return technical_preminum"
   ]
  },
  {
   "cell_type": "code",
   "execution_count": 123,
   "metadata": {
    "collapsed": true,
    "jupyter": {
     "outputs_hidden": true
    }
   },
   "outputs": [
    {
     "data": {
      "text/html": [
       "<div>\n",
       "<style scoped>\n",
       "    .dataframe tbody tr th:only-of-type {\n",
       "        vertical-align: middle;\n",
       "    }\n",
       "\n",
       "    .dataframe tbody tr th {\n",
       "        vertical-align: top;\n",
       "    }\n",
       "\n",
       "    .dataframe thead th {\n",
       "        text-align: right;\n",
       "    }\n",
       "</style>\n",
       "<table border=\"1\" class=\"dataframe\">\n",
       "  <thead>\n",
       "    <tr style=\"text-align: right;\">\n",
       "      <th></th>\n",
       "      <th>const</th>\n",
       "      <th>pol_eff_year</th>\n",
       "      <th>risk_state</th>\n",
       "      <th>naics3</th>\n",
       "      <th>n_power_units</th>\n",
       "      <th>prior_claim_freq_3yr</th>\n",
       "      <th>dnb_credit_score</th>\n",
       "      <th>easi_snowfall</th>\n",
       "      <th>experience_rated_manual_premium</th>\n",
       "      <th>incurred_loss_and_alae</th>\n",
       "      <th>experience</th>\n",
       "      <th>clrt</th>\n",
       "      <th>technical_premium</th>\n",
       "    </tr>\n",
       "  </thead>\n",
       "  <tbody>\n",
       "    <tr>\n",
       "      <th>0</th>\n",
       "      <td>1.0</td>\n",
       "      <td>2010</td>\n",
       "      <td>AK</td>\n",
       "      <td>722.0</td>\n",
       "      <td>24</td>\n",
       "      <td>0.0</td>\n",
       "      <td>0.0</td>\n",
       "      <td>70.0</td>\n",
       "      <td>478.555077</td>\n",
       "      <td>0.000000</td>\n",
       "      <td>0.8</td>\n",
       "      <td>0.8</td>\n",
       "      <td>306.275249</td>\n",
       "    </tr>\n",
       "    <tr>\n",
       "      <th>8</th>\n",
       "      <td>1.0</td>\n",
       "      <td>2010</td>\n",
       "      <td>AR</td>\n",
       "      <td>453.0</td>\n",
       "      <td>1</td>\n",
       "      <td>0.0</td>\n",
       "      <td>2.0</td>\n",
       "      <td>5.0</td>\n",
       "      <td>429.164457</td>\n",
       "      <td>0.000000</td>\n",
       "      <td>0.8</td>\n",
       "      <td>0.8</td>\n",
       "      <td>274.665253</td>\n",
       "    </tr>\n",
       "    <tr>\n",
       "      <th>9</th>\n",
       "      <td>1.0</td>\n",
       "      <td>2010</td>\n",
       "      <td>AR</td>\n",
       "      <td>423.0</td>\n",
       "      <td>4</td>\n",
       "      <td>0.0</td>\n",
       "      <td>1.0</td>\n",
       "      <td>7.0</td>\n",
       "      <td>1234.672690</td>\n",
       "      <td>0.000000</td>\n",
       "      <td>0.8</td>\n",
       "      <td>0.8</td>\n",
       "      <td>790.190522</td>\n",
       "    </tr>\n",
       "    <tr>\n",
       "      <th>18</th>\n",
       "      <td>1.0</td>\n",
       "      <td>2010</td>\n",
       "      <td>AZ</td>\n",
       "      <td>112.0</td>\n",
       "      <td>17</td>\n",
       "      <td>0.0</td>\n",
       "      <td>3.0</td>\n",
       "      <td>0.0</td>\n",
       "      <td>3274.963002</td>\n",
       "      <td>423.294916</td>\n",
       "      <td>0.8</td>\n",
       "      <td>0.8</td>\n",
       "      <td>2095.976321</td>\n",
       "    </tr>\n",
       "    <tr>\n",
       "      <th>19</th>\n",
       "      <td>1.0</td>\n",
       "      <td>2010</td>\n",
       "      <td>AZ</td>\n",
       "      <td>112.0</td>\n",
       "      <td>32</td>\n",
       "      <td>0.0</td>\n",
       "      <td>3.0</td>\n",
       "      <td>0.0</td>\n",
       "      <td>2978.807420</td>\n",
       "      <td>0.000000</td>\n",
       "      <td>0.8</td>\n",
       "      <td>0.8</td>\n",
       "      <td>1906.436749</td>\n",
       "    </tr>\n",
       "  </tbody>\n",
       "</table>\n",
       "</div>"
      ],
      "text/plain": [
       "    const  pol_eff_year risk_state  naics3  n_power_units  \\\n",
       "0     1.0          2010         AK   722.0             24   \n",
       "8     1.0          2010         AR   453.0              1   \n",
       "9     1.0          2010         AR   423.0              4   \n",
       "18    1.0          2010         AZ   112.0             17   \n",
       "19    1.0          2010         AZ   112.0             32   \n",
       "\n",
       "    prior_claim_freq_3yr  dnb_credit_score  easi_snowfall  \\\n",
       "0                    0.0               0.0           70.0   \n",
       "8                    0.0               2.0            5.0   \n",
       "9                    0.0               1.0            7.0   \n",
       "18                   0.0               3.0            0.0   \n",
       "19                   0.0               3.0            0.0   \n",
       "\n",
       "    experience_rated_manual_premium  incurred_loss_and_alae  experience  clrt  \\\n",
       "0                        478.555077                0.000000         0.8   0.8   \n",
       "8                        429.164457                0.000000         0.8   0.8   \n",
       "9                       1234.672690                0.000000         0.8   0.8   \n",
       "18                      3274.963002              423.294916         0.8   0.8   \n",
       "19                      2978.807420                0.000000         0.8   0.8   \n",
       "\n",
       "    technical_premium  \n",
       "0          306.275249  \n",
       "8          274.665253  \n",
       "9          790.190522  \n",
       "18        2095.976321  \n",
       "19        1906.436749  "
      ]
     },
     "execution_count": 123,
     "metadata": {},
     "output_type": "execute_result"
    }
   ],
   "source": [
    "clrt_df = test_df.copy()\n",
    "clrt_df['experience'] = 0.0\n",
    "clrt_df['clrt'] = 0.0\n",
    "for i, row in clrt_df.iterrows():\n",
    "    clrt_df.at[i , 'experience'] = experience_rater(row['experience_rated_manual_premium'], row['incurred_loss_and_alae'])\n",
    "    clrt_df.at[i , 'clrt'] = clrt(row['n_power_units'], row['incurred_loss_and_alae'])\n",
    "clrt_df['technical_premium'] = clrt_df['clrt'] * clrt_df['experience'] * clrt_df['experience_rated_manual_premium']\n",
    "clrt_df.head()"
   ]
  },
  {
   "cell_type": "markdown",
   "metadata": {
    "tags": []
   },
   "source": [
    "### 4. Discretionary Pricing Guidance (tool_name = NBPT, file_type = Excel, model_type = GLM)\n",
    "- Relies on (1) and (2)\n",
    "- Sample data and schema provided\n",
    "- Please build a GLM with the following model specification\n",
    "    - link = “log”\n",
    "    - family = “Tweedie”\n",
    "    - weight = manual_premium\n",
    "    - target = manual_loss_ratio (incurred_loss_and_alae / manual_premium)\n",
    "    - features = [\n",
    "        - policy_year\n",
    "        - risk_state\n",
    "        - n_power_units\n",
    "        - prior_claim_freq_3yr\n",
    "        - easi_snowfall\n",
    "        - dnb_credit_score\n",
    "    ]\n",
    "- Output is technical premium\n",
    "    - GLM prediction * Experience Mod * Manual Premium * (1 + Indication) = Technical Premium\n",
    "    - Indications are provided in a sample file\n",
    "        - [sample_data].[risk_state] = [indication].[risk_state]\n",
    "        - [sample_data].[coverage_type] = [indication].[coverage_type]\n",
    "        - Join on these keys to obtain the Indication"
   ]
  },
  {
   "cell_type": "code",
   "execution_count": 64,
   "metadata": {
    "collapsed": true,
    "jupyter": {
     "outputs_hidden": true
    }
   },
   "outputs": [
    {
     "name": "stderr",
     "output_type": "stream",
     "text": [
      "/home/jovyan/.local/lib/python3.6/site-packages/statsmodels/genmod/families/family.py:1444: RuntimeWarning: divide by zero encountered in log\n",
      "  endog * np.log(endog / mu) + (mu - endog))\n",
      "/home/jovyan/.local/lib/python3.6/site-packages/statsmodels/genmod/families/family.py:1444: RuntimeWarning: invalid value encountered in multiply\n",
      "  endog * np.log(endog / mu) + (mu - endog))\n"
     ]
    },
    {
     "name": "stdout",
     "output_type": "stream",
     "text": [
      "                 Generalized Linear Model Regression Results                  \n",
      "==============================================================================\n",
      "Dep. Variable:      manual_loss_ratio   No. Observations:               103414\n",
      "Model:                            GLM   Df Residuals:                   103405\n",
      "Model Family:                 Tweedie   Df Model:                            8\n",
      "Link Function:                    log   Scale:                          6763.9\n",
      "Method:                          IRLS   Log-Likelihood:                    nan\n",
      "Date:                Fri, 17 Dec 2021   Deviance:                   2.3890e+08\n",
      "Time:                        20:33:14   Pearson chi2:                 6.99e+08\n",
      "No. Iterations:                    12                                         \n",
      "Covariance Type:            nonrobust                                         \n",
      "===================================================================================================\n",
      "                                      coef    std err          z      P>|z|      [0.025      0.975]\n",
      "---------------------------------------------------------------------------------------------------\n",
      "const                             -39.5444      6.278     -6.299      0.000     -51.850     -27.239\n",
      "pol_eff_year                        0.0192      0.003      6.154      0.000       0.013       0.025\n",
      "naics3                          -2.988e-05   5.12e-05     -0.583      0.560      -0.000    7.05e-05\n",
      "n_power_units                      -0.0012      0.000     -4.350      0.000      -0.002      -0.001\n",
      "prior_claim_freq_3yr                1.0119      0.153      6.595      0.000       0.711       1.313\n",
      "dnb_credit_score                    0.0230      0.008      2.723      0.006       0.006       0.039\n",
      "easi_snowfall                      -0.0062      0.000    -12.557      0.000      -0.007      -0.005\n",
      "experience_rated_manual_premium -4.672e-06   1.95e-07    -23.918      0.000   -5.06e-06   -4.29e-06\n",
      "incurred_loss_and_alae           2.402e-05   1.43e-07    167.663      0.000    2.37e-05    2.43e-05\n",
      "===================================================================================================\n"
     ]
    }
   ],
   "source": [
    "glm_model = sm.GLM(train_y, train_x, family=sm.families.Tweedie(link=sm.families.links.log()), var_weights=np.asarray(train_x[\"experience_rated_manual_premium\"]))\n",
    "glm_results = glm_model.fit()\n",
    "print(glm_results.summary())"
   ]
  },
  {
   "cell_type": "code",
   "execution_count": 121,
   "metadata": {
    "collapsed": true,
    "jupyter": {
     "outputs_hidden": true
    }
   },
   "outputs": [
    {
     "data": {
      "text/html": [
       "<div>\n",
       "<style scoped>\n",
       "    .dataframe tbody tr th:only-of-type {\n",
       "        vertical-align: middle;\n",
       "    }\n",
       "\n",
       "    .dataframe tbody tr th {\n",
       "        vertical-align: top;\n",
       "    }\n",
       "\n",
       "    .dataframe thead th {\n",
       "        text-align: right;\n",
       "    }\n",
       "</style>\n",
       "<table border=\"1\" class=\"dataframe\">\n",
       "  <thead>\n",
       "    <tr style=\"text-align: right;\">\n",
       "      <th></th>\n",
       "      <th>const</th>\n",
       "      <th>pol_eff_year</th>\n",
       "      <th>risk_state</th>\n",
       "      <th>naics3</th>\n",
       "      <th>n_power_units</th>\n",
       "      <th>prior_claim_freq_3yr</th>\n",
       "      <th>dnb_credit_score</th>\n",
       "      <th>easi_snowfall</th>\n",
       "      <th>experience_rated_manual_premium</th>\n",
       "      <th>incurred_loss_and_alae</th>\n",
       "      <th>glm</th>\n",
       "      <th>indication</th>\n",
       "      <th>experience</th>\n",
       "      <th>technical_premium</th>\n",
       "    </tr>\n",
       "  </thead>\n",
       "  <tbody>\n",
       "    <tr>\n",
       "      <th>0</th>\n",
       "      <td>1.0</td>\n",
       "      <td>2010</td>\n",
       "      <td>AK</td>\n",
       "      <td>722.0</td>\n",
       "      <td>24</td>\n",
       "      <td>0.0</td>\n",
       "      <td>0.0</td>\n",
       "      <td>70.0</td>\n",
       "      <td>478.555077</td>\n",
       "      <td>0.000000</td>\n",
       "      <td>0.227651</td>\n",
       "      <td>0.970010</td>\n",
       "      <td>0.8</td>\n",
       "      <td>84.540979</td>\n",
       "    </tr>\n",
       "    <tr>\n",
       "      <th>8</th>\n",
       "      <td>1.0</td>\n",
       "      <td>2010</td>\n",
       "      <td>AR</td>\n",
       "      <td>453.0</td>\n",
       "      <td>1</td>\n",
       "      <td>0.0</td>\n",
       "      <td>2.0</td>\n",
       "      <td>5.0</td>\n",
       "      <td>429.164457</td>\n",
       "      <td>0.000000</td>\n",
       "      <td>0.369882</td>\n",
       "      <td>1.003008</td>\n",
       "      <td>0.8</td>\n",
       "      <td>127.374334</td>\n",
       "    </tr>\n",
       "    <tr>\n",
       "      <th>9</th>\n",
       "      <td>1.0</td>\n",
       "      <td>2010</td>\n",
       "      <td>AR</td>\n",
       "      <td>423.0</td>\n",
       "      <td>4</td>\n",
       "      <td>0.0</td>\n",
       "      <td>1.0</td>\n",
       "      <td>7.0</td>\n",
       "      <td>1234.672690</td>\n",
       "      <td>0.000000</td>\n",
       "      <td>0.354746</td>\n",
       "      <td>1.003008</td>\n",
       "      <td>0.8</td>\n",
       "      <td>351.450504</td>\n",
       "    </tr>\n",
       "    <tr>\n",
       "      <th>18</th>\n",
       "      <td>1.0</td>\n",
       "      <td>2010</td>\n",
       "      <td>AZ</td>\n",
       "      <td>112.0</td>\n",
       "      <td>17</td>\n",
       "      <td>0.0</td>\n",
       "      <td>3.0</td>\n",
       "      <td>0.0</td>\n",
       "      <td>3274.963002</td>\n",
       "      <td>423.294916</td>\n",
       "      <td>0.385883</td>\n",
       "      <td>1.234135</td>\n",
       "      <td>0.8</td>\n",
       "      <td>1247.713084</td>\n",
       "    </tr>\n",
       "    <tr>\n",
       "      <th>19</th>\n",
       "      <td>1.0</td>\n",
       "      <td>2010</td>\n",
       "      <td>AZ</td>\n",
       "      <td>112.0</td>\n",
       "      <td>32</td>\n",
       "      <td>0.0</td>\n",
       "      <td>3.0</td>\n",
       "      <td>0.0</td>\n",
       "      <td>2978.807420</td>\n",
       "      <td>0.000000</td>\n",
       "      <td>0.375839</td>\n",
       "      <td>1.234135</td>\n",
       "      <td>0.8</td>\n",
       "      <td>1105.342987</td>\n",
       "    </tr>\n",
       "  </tbody>\n",
       "</table>\n",
       "</div>"
      ],
      "text/plain": [
       "    const  pol_eff_year risk_state  naics3  n_power_units  \\\n",
       "0     1.0          2010         AK   722.0             24   \n",
       "8     1.0          2010         AR   453.0              1   \n",
       "9     1.0          2010         AR   423.0              4   \n",
       "18    1.0          2010         AZ   112.0             17   \n",
       "19    1.0          2010         AZ   112.0             32   \n",
       "\n",
       "    prior_claim_freq_3yr  dnb_credit_score  easi_snowfall  \\\n",
       "0                    0.0               0.0           70.0   \n",
       "8                    0.0               2.0            5.0   \n",
       "9                    0.0               1.0            7.0   \n",
       "18                   0.0               3.0            0.0   \n",
       "19                   0.0               3.0            0.0   \n",
       "\n",
       "    experience_rated_manual_premium  incurred_loss_and_alae       glm  \\\n",
       "0                        478.555077                0.000000  0.227651   \n",
       "8                        429.164457                0.000000  0.369882   \n",
       "9                       1234.672690                0.000000  0.354746   \n",
       "18                      3274.963002              423.294916  0.385883   \n",
       "19                      2978.807420                0.000000  0.375839   \n",
       "\n",
       "    indication  experience  technical_premium  \n",
       "0     0.970010         0.8          84.540979  \n",
       "8     1.003008         0.8         127.374334  \n",
       "9     1.003008         0.8         351.450504  \n",
       "18    1.234135         0.8        1247.713084  \n",
       "19    1.234135         0.8        1105.342987  "
      ]
     },
     "execution_count": 121,
     "metadata": {},
     "output_type": "execute_result"
    }
   ],
   "source": [
    "nbpt_df = test_df.copy()\n",
    "nbpt_df['glm'] = glm_results.predict(test_df.drop(['risk_state'], axis=1))\n",
    "nbpt_df['indication'] = nbpt_df.join(indication.set_index('risk_state'), on='risk_state')[\"state_sold_indication\"] + 1\n",
    "nbpt_df['experience'] = 0.0\n",
    "for i, row in nbpt_df.iterrows():\n",
    "    nbpt_df.at[i , 'experience'] = experience_rater(row['experience_rated_manual_premium'], row['incurred_loss_and_alae'])\n",
    "nbpt_df['technical_premium'] = nbpt_df['glm'] * nbpt_df['experience'] * nbpt_df['experience_rated_manual_premium'] * nbpt_df['indication']\n",
    "nbpt_df.head()"
   ]
  },
  {
   "cell_type": "markdown",
   "metadata": {
    "tags": []
   },
   "source": [
    "### 5. If the CLRT is used, (3) and (4) are credibility weighted for final technical premium\n",
    "- z * Technical Premium from (3) + (1-z) * Technical Premium from (4)\n",
    "- Assume z = .25"
   ]
  },
  {
   "cell_type": "code",
   "execution_count": 125,
   "metadata": {
    "collapsed": true,
    "jupyter": {
     "outputs_hidden": true
    }
   },
   "outputs": [
    {
     "data": {
      "text/plain": [
       "0      139.974546\n",
       "8      164.197064\n",
       "9      461.135508\n",
       "18    1459.778893\n",
       "19    1305.616427\n",
       "Name: technical_premium, dtype: float64"
      ]
     },
     "execution_count": 125,
     "metadata": {},
     "output_type": "execute_result"
    }
   ],
   "source": [
    "z = 0.25\n",
    "technical_premium = z * clrt_df['technical_premium'] + (1 - z) * nbpt_df['technical_premium']\n",
    "technical_premium.head()"
   ]
  },
  {
   "cell_type": "markdown",
   "metadata": {
    "tags": []
   },
   "source": [
    "### 6. Deploy the Technical Premium endpoint and show us a sample request/response using provided data"
   ]
  },
  {
   "cell_type": "code",
   "execution_count": null,
   "metadata": {},
   "outputs": [],
   "source": []
  }
 ],
 "metadata": {
  "kernelspec": {
   "display_name": "Python 3",
   "language": "python",
   "name": "python3"
  },
  "kubeflow_notebook": {
   "autosnapshot": true,
   "docker_image": "gcr.io/arrikto/jupyter-kale-py36@sha256:5c30d30c0459b0d7597293900be0897d5595a819f5a8311765cd928f87835d44",
   "experiment": {
    "id": "",
    "name": ""
   },
   "experiment_name": "",
   "katib_metadata": {
    "algorithm": {
     "algorithmName": "grid"
    },
    "maxFailedTrialCount": 3,
    "maxTrialCount": 12,
    "objective": {
     "objectiveMetricName": "",
     "type": "minimize"
    },
    "parallelTrialCount": 3,
    "parameters": []
   },
   "katib_run": false,
   "pipeline_description": "",
   "pipeline_name": "",
   "snapshot_volumes": true,
   "steps_defaults": [
    "label:access-ml-pipeline:true",
    "label:access-rok:true"
   ],
   "volume_access_mode": "rwm",
   "volumes": [
    {
     "annotations": [],
     "mount_point": "/home/jovyan",
     "name": "workspace-qbe-l8z7ezr9b",
     "size": 5,
     "size_type": "Gi",
     "snapshot": false,
     "type": "clone"
    }
   ]
  },
  "language_info": {
   "codemirror_mode": {
    "name": "ipython",
    "version": 3
   },
   "file_extension": ".py",
   "mimetype": "text/x-python",
   "name": "python",
   "nbconvert_exporter": "python",
   "pygments_lexer": "ipython3",
   "version": "3.6.9"
  }
 },
 "nbformat": 4,
 "nbformat_minor": 4
}
