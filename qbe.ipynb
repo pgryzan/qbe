{
 "cells": [
  {
   "cell_type": "markdown",
   "metadata": {
    "tags": []
   },
   "source": [
    "# QBE"
   ]
  },
  {
   "cell_type": "markdown",
   "metadata": {
    "tags": []
   },
   "source": [
    "## Goal\n",
    "Modernize the way we deliver models and technical premium to our business partners (e.g.,\n",
    "Underwriters, Claims Reps, etc.) Our aim is to deploy these models as an API, such that they can\n",
    "be easily consumed from various downstream applications. In addition to this, we’re interested\n",
    "to see a solution with the following components:\n",
    "- Deployment Governance (e.g., approval process to move to production, version history,\n",
    "etc.)\n",
    "- Complete, searchable, and auditable provenance of all models\n",
    "- Model explainability (e.g., which features were important to the prediction and why)\n",
    "- Model quality monitoring (e.g., model accuracy over time)\n",
    "- Data quality monitoring (e.g., data drift)\n",
    "- Holistic view of all models in production (e.g., how many models do we have, what’s the aggregate model quality, how many need to be retrained, etc.)\n",
    "- API telemetry and transaction auditability (e.g., how often is the API used, how performant is it, what were the inputs and outputs in each transaction, etc.)\n",
    "- Native support for development in open-source languages (e.g., R, Python, etc.) and deployment of varying model types to the solution (e.g., GLM, GBM, CNN, etc.)\n",
    "- Ability to make pricing transactional data available for analytical purposes"
   ]
  },
  {
   "cell_type": "markdown",
   "metadata": {
    "tags": []
   },
   "source": [
    "## Load Libraries"
   ]
  },
  {
   "cell_type": "code",
   "execution_count": 1,
   "metadata": {
    "collapsed": true,
    "jupyter": {
     "outputs_hidden": true
    }
   },
   "outputs": [
    {
     "name": "stdout",
     "output_type": "stream",
     "text": [
      "Requirement already satisfied: numpy in /usr/local/lib/python3.6/dist-packages (from -r libraries.txt (line 1)) (1.19.5)\n",
      "Requirement already satisfied: pandas in /home/jovyan/.local/lib/python3.6/site-packages (from -r libraries.txt (line 2)) (1.1.5)\n",
      "Requirement already satisfied: scipy in /home/jovyan/.local/lib/python3.6/site-packages (from -r libraries.txt (line 3)) (1.5.4)\n",
      "Collecting statsmodels\n",
      "  Downloading statsmodels-0.12.2-cp36-cp36m-manylinux1_x86_64.whl (9.5 MB)\n",
      "     |████████████████████████████████| 9.5 MB 5.3 MB/s            \n",
      "\u001b[?25hRequirement already satisfied: pytz>=2017.2 in /usr/local/lib/python3.6/dist-packages (from pandas->-r libraries.txt (line 2)) (2021.1)\n",
      "Requirement already satisfied: python-dateutil>=2.7.3 in /usr/local/lib/python3.6/dist-packages (from pandas->-r libraries.txt (line 2)) (2.8.1)\n",
      "Collecting patsy>=0.5\n",
      "  Downloading patsy-0.5.2-py2.py3-none-any.whl (233 kB)\n",
      "     |████████████████████████████████| 233 kB 49.8 MB/s            \n",
      "\u001b[?25hRequirement already satisfied: six in /usr/local/lib/python3.6/dist-packages (from patsy>=0.5->statsmodels->-r libraries.txt (line 4)) (1.15.0)\n",
      "Installing collected packages: patsy, statsmodels\n",
      "Successfully installed patsy-0.5.2 statsmodels-0.12.2\n"
     ]
    }
   ],
   "source": [
    "!pip3 install --user -r libraries.txt"
   ]
  },
  {
   "cell_type": "markdown",
   "metadata": {
    "tags": []
   },
   "source": [
    "## Import Dependencies"
   ]
  },
  {
   "cell_type": "code",
   "execution_count": 1,
   "metadata": {},
   "outputs": [],
   "source": [
    "import requests\n",
    "import numpy as np \n",
    "import pandas as pd\n",
    "import scipy\n",
    "import statsmodels.api as sm"
   ]
  },
  {
   "cell_type": "markdown",
   "metadata": {
    "tags": []
   },
   "source": [
    "## Load Data "
   ]
  },
  {
   "cell_type": "code",
   "execution_count": 18,
   "metadata": {
    "collapsed": true,
    "jupyter": {
     "outputs_hidden": true
    }
   },
   "outputs": [
    {
     "name": "stdout",
     "output_type": "stream",
     "text": [
      "<class 'pandas.core.frame.DataFrame'>\n",
      "RangeIndex: 131773 entries, 0 to 131772\n",
      "Data columns (total 11 columns):\n",
      " #   Column                           Non-Null Count   Dtype  \n",
      "---  ------                           --------------   -----  \n",
      " 0   coverage_type                    131773 non-null  object \n",
      " 1   pol_eff_year                     131773 non-null  int64  \n",
      " 2   risk_state                       131773 non-null  object \n",
      " 3   naics3                           131539 non-null  float64\n",
      " 4   n_power_units                    131773 non-null  int64  \n",
      " 5   prior_claim_freq_3yr             99408 non-null   float64\n",
      " 6   dnb_credit_score                 108504 non-null  float64\n",
      " 7   easi_snowfall                    131504 non-null  float64\n",
      " 8   experience_rated_manual_premium  131773 non-null  float64\n",
      " 9   incurred_loss_and_alae           131773 non-null  float64\n",
      " 10  split                            131773 non-null  object \n",
      "dtypes: float64(6), int64(2), object(3)\n",
      "memory usage: 11.1+ MB\n",
      "<class 'pandas.core.frame.DataFrame'>\n",
      "RangeIndex: 51 entries, 0 to 50\n",
      "Data columns (total 3 columns):\n",
      " #   Column                 Non-Null Count  Dtype  \n",
      "---  ------                 --------------  -----  \n",
      " 0   coverage               51 non-null     object \n",
      " 1   risk_state             51 non-null     object \n",
      " 2   state_sold_indication  51 non-null     float64\n",
      "dtypes: float64(1), object(2)\n",
      "memory usage: 1.3+ KB\n"
     ]
    }
   ],
   "source": [
    "data = pd.read_csv(\"comm_auto_sample_data.csv\")\n",
    "data.info()\n",
    "indication = pd.read_csv(\"comm_auto_sample_indication.csv\")\n",
    "indication.info()"
   ]
  },
  {
   "cell_type": "markdown",
   "metadata": {
    "tags": []
   },
   "source": [
    "## Split Data"
   ]
  },
  {
   "cell_type": "code",
   "execution_count": 3,
   "metadata": {
    "collapsed": true,
    "jupyter": {
     "outputs_hidden": true
    }
   },
   "outputs": [
    {
     "name": "stdout",
     "output_type": "stream",
     "text": [
      "<class 'pandas.core.frame.DataFrame'>\n",
      "Int64Index: 103414 entries, 1 to 131772\n",
      "Data columns (total 10 columns):\n",
      " #   Column                           Non-Null Count   Dtype  \n",
      "---  ------                           --------------   -----  \n",
      " 0   coverage_type                    103414 non-null  object \n",
      " 1   pol_eff_year                     103414 non-null  int64  \n",
      " 2   risk_state                       103414 non-null  object \n",
      " 3   naics3                           103219 non-null  float64\n",
      " 4   n_power_units                    103414 non-null  int64  \n",
      " 5   prior_claim_freq_3yr             78067 non-null   float64\n",
      " 6   dnb_credit_score                 85344 non-null   float64\n",
      " 7   easi_snowfall                    103201 non-null  float64\n",
      " 8   experience_rated_manual_premium  103414 non-null  float64\n",
      " 9   incurred_loss_and_alae           103414 non-null  float64\n",
      "dtypes: float64(6), int64(2), object(2)\n",
      "memory usage: 8.7+ MB\n",
      "<class 'pandas.core.frame.DataFrame'>\n",
      "Int64Index: 28359 entries, 0 to 131767\n",
      "Data columns (total 10 columns):\n",
      " #   Column                           Non-Null Count  Dtype  \n",
      "---  ------                           --------------  -----  \n",
      " 0   coverage_type                    28359 non-null  object \n",
      " 1   pol_eff_year                     28359 non-null  int64  \n",
      " 2   risk_state                       28359 non-null  object \n",
      " 3   naics3                           28320 non-null  float64\n",
      " 4   n_power_units                    28359 non-null  int64  \n",
      " 5   prior_claim_freq_3yr             21341 non-null  float64\n",
      " 6   dnb_credit_score                 23160 non-null  float64\n",
      " 7   easi_snowfall                    28303 non-null  float64\n",
      " 8   experience_rated_manual_premium  28359 non-null  float64\n",
      " 9   incurred_loss_and_alae           28359 non-null  float64\n",
      "dtypes: float64(6), int64(2), object(2)\n",
      "memory usage: 2.4+ MB\n"
     ]
    }
   ],
   "source": [
    "train_df = data[data.split == 'Training']\n",
    "train_df = train_df.drop(['split'], axis=1)\n",
    "train_df.info()\n",
    "test_df = data[data.split == 'Holdout']\n",
    "test_df = test_df.drop(['split'], axis=1)\n",
    "test_df.info()"
   ]
  },
  {
   "cell_type": "markdown",
   "metadata": {
    "tags": []
   },
   "source": [
    "## Sample Use Case\n",
    "To deliver technical premium for Commercial Retail – Auto, you need a combination of pricing\n",
    "inputs from:\n",
    "### 1. Manual Premium\n",
    "- Comes from our Policy Admin System, Majesco\n",
    "- Would be API data from Majesco\n",
    "- For the demo, briefly describe how you would ingest this type of data from an internal vendor."
   ]
  },
  {
   "cell_type": "code",
   "execution_count": 14,
   "metadata": {
    "collapsed": true,
    "jupyter": {
     "outputs_hidden": true
    }
   },
   "outputs": [
    {
     "name": "stdout",
     "output_type": "stream",
     "text": [
      "{\n",
      "  \"args\": {\n",
      "    \"search.sessiontype\": \"1522435540042001BxTD\"\n",
      "  }, \n",
      "  \"data\": \"\", \n",
      "  \"files\": {}, \n",
      "  \"form\": {}, \n",
      "  \"headers\": {\n",
      "    \"Accept\": \"*/*\", \n",
      "    \"Accept-Encoding\": \"gzip, deflate\", \n",
      "    \"Cache-Control\": \"no-cache\", \n",
      "    \"Content-Length\": \"2\", \n",
      "    \"Content-Type\": \"multipart/form-data; boundary=----WebKitFormBoundary7MA4YWxkTrZu0gW\", \n",
      "    \"Host\": \"httpbin.org\", \n",
      "    \"Postman-Token\": \"dadd9f76-6a7f-41ed-8f31-04359976c622\", \n",
      "    \"Rfapiprofileid\": \"uGiII5rYGOjoHXOZx0ch4r7f1KzFC0zd\", \n",
      "    \"Rfwidgetid\": \"KKA8rC3VuZo5clh8gX5Aq07XFonUTLyU\", \n",
      "    \"User-Agent\": \"python-requests/2.25.1\", \n",
      "    \"X-Amzn-Trace-Id\": \"Root=1-61b3bd9b-347d774243eccd5a019311e8\"\n",
      "  }, \n",
      "  \"json\": null, \n",
      "  \"origin\": \"104.197.249.205\", \n",
      "  \"url\": \"https://httpbin.org/post?search.sessiontype=1522435540042001BxTD\"\n",
      "}\n",
      "\n"
     ]
    }
   ],
   "source": [
    "url = \"https://httpbin.org/post\"\n",
    "querystring = {\"search.sessiontype\":\"1522435540042001BxTD\"}\n",
    "payload = \"{}\"\n",
    "headers = {\n",
    "    'content-type': \"multipart/form-data; boundary=----WebKitFormBoundary7MA4YWxkTrZu0gW\",\n",
    "    'rfapiprofileid': \"uGiII5rYGOjoHXOZx0ch4r7f1KzFC0zd\",\n",
    "    'rfwidgetid': \"KKA8rC3VuZo5clh8gX5Aq07XFonUTLyU\",\n",
    "    'cache-control': \"no-cache\",\n",
    "    'Postman-Token': \"dadd9f76-6a7f-41ed-8f31-04359976c622\"\n",
    "}\n",
    "print(requests.request(\"POST\", url, data=payload, headers=headers, params=querystring).text)"
   ]
  },
  {
   "cell_type": "markdown",
   "metadata": {
    "tags": []
   },
   "source": [
    "### 2. Experience Mod (tool_name = Experience Rater, file_type = Excel, model_type = Rater)\n",
    "- Relies on historical losses, which comes in the form of PDFs, Excel files, etc.\n",
    "- Sample Algorithm:\n",
    "\n",
    "`If Manual Premium < $10,000\n",
    "    If losses > $20,000 then 2 else 0.8\n",
    "Else\n",
    "    If losses > $1,000,000 then 1.5 else 1.0`"
   ]
  },
  {
   "cell_type": "code",
   "execution_count": 5,
   "metadata": {},
   "outputs": [],
   "source": [
    "def experience_rater(manual_premium, losses):\n",
    "    rating = 0.0\n",
    "    if manual_premium < 10000:\n",
    "        if losses > 20000:\n",
    "            rating = 2.0\n",
    "        else:\n",
    "            rating = 0.8\n",
    "    else:\n",
    "        if losses > 1000000:\n",
    "            rating = 1.5\n",
    "        else:\n",
    "            rating = 1\n",
    "    return rating"
   ]
  },
  {
   "cell_type": "code",
   "execution_count": 16,
   "metadata": {},
   "outputs": [
    {
     "name": "stdout",
     "output_type": "stream",
     "text": [
      "1\n"
     ]
    }
   ],
   "source": [
    "print(experience_rater(20000,0))"
   ]
  },
  {
   "cell_type": "markdown",
   "metadata": {
    "tags": []
   },
   "source": [
    "### 3. Loss Rating Tool (tool_name = CLRT, file_type = Excel, model_type = Rater)\n",
    "- Relies on (1) and (2)\n",
    "- Only used for large accounts\n",
    "    - $500,000+ experience rated manual premium\n",
    "    - This is an example of a business rule we’d like to see handled (i.e., when to use a specific algorithm)\n",
    "- In production, the input to this algorithm is dynamic (e.g., what if analysis), and will come from our Underwriting Workbench (i.e., the UI where the Underwriter works to quote policies).\n",
    "- Example Input Variables\n",
    "    - Historical exposure by year\n",
    "        - Auto exposure is vehicle count\n",
    "    - Losses by year\n",
    "    - Claim detail\n",
    "    - Aggregate losses by year\n",
    "    - Account information\n",
    "- Please describe how you would handle the dynamic input and output of Example Input Variables as part of your deployment\n",
    "- Output is technical premium\n",
    "    - CLRT Mod * Experience Mod * Manual Premium = Technical Premium\n",
    "    - CLRT Mod Sample Algorithm:\n",
    "    \n",
    "`If exposure < 100\n",
    "    If losses > 1000000 then 1.8\n",
    "    If losses > 500000 then 1.4\n",
    "    If losses > 250000 then 1.0\n",
    "    If losses > 100000 then 0.9\n",
    "    Else 0.8\n",
    "Else\n",
    "    If losses > 1000000 then 2.0\n",
    "    If losses > 500000 then 1.5\n",
    "    If losses > 250000 then 1.0\n",
    "    If losses > 100000 then 0.85\n",
    "    Else 0.75`\n"
   ]
  },
  {
   "cell_type": "code",
   "execution_count": 7,
   "metadata": {},
   "outputs": [],
   "source": [
    "def clrt (exposure, losses):\n",
    "    technical_preminum = 0.0\n",
    "    if exposure < 100:\n",
    "        if losses > 1000000:\n",
    "            technical_preminum = 1.8\n",
    "        if losses > 500000:\n",
    "            technical_preminum = 1.4\n",
    "        if losses > 250000:\n",
    "            technical_preminum = 1.0\n",
    "        if losses > 100000:\n",
    "            technical_preminum = 1.9\n",
    "        else:\n",
    "            technical_preminum = 0.8\n",
    "    else:\n",
    "        if losses > 1000000:\n",
    "            technical_preminum = 2.0\n",
    "        if losses > 500000:\n",
    "            technical_preminum = 1.5\n",
    "        if losses > 250000:\n",
    "            technical_preminum = 1.0\n",
    "        if losses > 100000:\n",
    "            technical_preminum = 0.85\n",
    "        else:\n",
    "            technical_preminum = 0.75\n",
    "    return technical_preminum"
   ]
  },
  {
   "cell_type": "code",
   "execution_count": 8,
   "metadata": {},
   "outputs": [
    {
     "name": "stdout",
     "output_type": "stream",
     "text": [
      "0.85\n"
     ]
    }
   ],
   "source": [
    "print(clrt(101, 110000))"
   ]
  },
  {
   "cell_type": "markdown",
   "metadata": {
    "tags": []
   },
   "source": [
    "### 4. Discretionary Pricing Guidance (tool_name = NBPT, file_type = Excel, model_type = GLM)\n",
    "- Relies on (1) and (2)\n",
    "- Sample data and schema provided\n",
    "- Please build a GLM with the following model specification\n",
    "    - link = “log”\n",
    "    - family = “Tweedie”\n",
    "    - weight = manual_premium\n",
    "    - target = manual_loss_ratio (incurred_loss_and_alae / manual_premium)\n",
    "    - features = [\n",
    "        - policy_year\n",
    "        - risk_state\n",
    "        - n_power_units\n",
    "        - prior_claim_freq_3yr\n",
    "        - easi_snowfall\n",
    "        - dnb_credit_score\n",
    "    ]\n",
    "- Output is technical premium\n",
    "    - GLM prediction * Experience Mod * Manual Premium * (1 + Indication) = Technical Premium\n",
    "    - Indications are provided in a sample file\n",
    "        - [sample_data].[risk_state] = [indication].[risk_state]\n",
    "        - [sample_data].[coverage_type] = [indication].[coverage_type]\n",
    "        - Join on these keys to obtain the Indication"
   ]
  },
  {
   "cell_type": "code",
   "execution_count": 20,
   "metadata": {},
   "outputs": [
    {
     "name": "stdout",
     "output_type": "stream",
     "text": [
      "                 Generalized Linear Model Regression Results                  \n",
      "==============================================================================\n",
      "Dep. Variable:                      y   No. Observations:                   32\n",
      "Model:                            GLM   Df Residuals:                       24\n",
      "Model Family:                 Tweedie   Df Model:                            7\n",
      "Link Function:                    log   Scale:                         0.21414\n",
      "Method:                          IRLS   Log-Likelihood:                    nan\n",
      "Date:                Fri, 10 Dec 2021   Deviance:                       5.1846\n",
      "Time:                        21:08:14   Pearson chi2:                     5.14\n",
      "No. Iterations:                     5                                         \n",
      "Covariance Type:            nonrobust                                         \n",
      "==============================================================================\n",
      "                 coef    std err          z      P>|z|      [0.025      0.975]\n",
      "------------------------------------------------------------------------------\n",
      "const          5.7793      0.683      8.457      0.000       4.440       7.119\n",
      "x1            -0.0025      0.001     -2.555      0.011      -0.004      -0.001\n",
      "x2            -0.1046      0.031     -3.338      0.001      -0.166      -0.043\n",
      "x3             0.0045      0.002      2.777      0.005       0.001       0.008\n",
      "x4            -0.0069      0.003     -2.712      0.007      -0.012      -0.002\n",
      "x5          8.237e-06   7.31e-06      1.127      0.260   -6.09e-06    2.26e-05\n",
      "x6             0.0310      0.015      2.118      0.034       0.002       0.060\n",
      "x7             0.0001    4.4e-05      2.779      0.005    3.61e-05       0.000\n",
      "==============================================================================\n"
     ]
    }
   ],
   "source": [
    "glm_data = sm.datasets.scotland.load()\n",
    "glm_data.exog = sm.add_constant(glm_data.exog)\n",
    "glm_model = sm.GLM(glm_data.endog, glm_data.exog, family=sm.families.Tweedie())\n",
    "glm_results = glm_model.fit()\n",
    "print(glm_results.summary())"
   ]
  },
  {
   "cell_type": "code",
   "execution_count": null,
   "metadata": {},
   "outputs": [],
   "source": []
  }
 ],
 "metadata": {
  "kernelspec": {
   "display_name": "Python 3",
   "language": "python",
   "name": "python3"
  },
  "kubeflow_notebook": {
   "autosnapshot": true,
   "docker_image": "gcr.io/arrikto/jupyter-kale-py36@sha256:5c30d30c0459b0d7597293900be0897d5595a819f5a8311765cd928f87835d44",
   "experiment": {
    "id": "",
    "name": ""
   },
   "experiment_name": "",
   "katib_run": false,
   "pipeline_description": "",
   "pipeline_name": "",
   "snapshot_volumes": true,
   "steps_defaults": [
    "label:access-ml-pipeline:true",
    "label:access-rok:true"
   ],
   "volume_access_mode": "rwm",
   "volumes": [
    {
     "annotations": [],
     "mount_point": "/home/jovyan",
     "name": "workspace-qbe-5snt1nlnk",
     "size": 5,
     "size_type": "Gi",
     "snapshot": false,
     "type": "clone"
    }
   ]
  },
  "language_info": {
   "codemirror_mode": {
    "name": "ipython",
    "version": 3
   },
   "file_extension": ".py",
   "mimetype": "text/x-python",
   "name": "python",
   "nbconvert_exporter": "python",
   "pygments_lexer": "ipython3",
   "version": "3.6.9"
  }
 },
 "nbformat": 4,
 "nbformat_minor": 4
}
